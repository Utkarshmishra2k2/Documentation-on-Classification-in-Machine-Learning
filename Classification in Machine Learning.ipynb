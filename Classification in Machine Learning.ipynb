{
  "nbformat": 4,
  "nbformat_minor": 0,
  "metadata": {
    "colab": {
      "private_outputs": true,
      "provenance": [],
      "authorship_tag": "ABX9TyO2oeekpdNL38wLMCiDnpmc",
      "include_colab_link": true
    },
    "kernelspec": {
      "name": "python3",
      "display_name": "Python 3"
    },
    "language_info": {
      "name": "python"
    }
  },
  "cells": [
    {
      "cell_type": "markdown",
      "metadata": {
        "id": "view-in-github",
        "colab_type": "text"
      },
      "source": [
        "<a href=\"https://colab.research.google.com/github/Utkarshmishra2k2/Documentation-on-Classification-in-Machine-Learning/blob/main/Classification%20in%20Machine%20Learning.ipynb\" target=\"_parent\"><img src=\"https://colab.research.google.com/assets/colab-badge.svg\" alt=\"Open In Colab\"/></a>"
      ]
    },
    {
      "cell_type": "markdown",
      "source": [
        "**Code Structure**\n",
        "\n",
        "1. Data Exploration and Visualization\n",
        "    \n",
        "    1.1. Loading the Dataset\n",
        "\n",
        "    1.2. Data Cleaning\n",
        "\n",
        "    1.3. Exploratory Data Analysis (EDA)\n",
        "\n",
        "    1.4. Visualizations\n",
        "\n",
        "\n",
        "\n",
        "2. Feature Engineering and Preprocessing\n",
        "\n",
        "    2.1. Feature and Target Extraction\n",
        "\n",
        "    2.2. Label Encoding\n",
        "\n",
        "    2.3. Data Splitting\n",
        "\n",
        "    2.4. Standardization\n",
        "\n",
        "\n",
        "\n",
        "3. Model Training\n",
        "\n",
        "    3.1. Logistic Regression:\n",
        "\n",
        "    3.2. K-Nearest Neighbors (KNN):\n",
        "\n",
        "    3.3. Support Vector Machine (SVM):\n",
        "\n",
        "    3.4. Gaussian Naive Bayes:\n",
        "\n",
        "    3.5. Bernoulli Naive Bayes:\n",
        "\n",
        "    3.6. Decision Tree:\n",
        "\n",
        "    3.7. Random Forest:"
      ],
      "metadata": {
        "id": "B2amKoAmXXx1"
      }
    },
    {
      "cell_type": "code",
      "source": [
        "import numpy as np\n",
        "import pandas as pd\n",
        "import seaborn as sns\n",
        "import matplotlib.pyplot as plt"
      ],
      "metadata": {
        "id": "rsubqS97aiNS"
      },
      "execution_count": null,
      "outputs": []
    },
    {
      "cell_type": "code",
      "source": [
        "from sklearn.datasets import load_iris\n",
        "from sklearn.preprocessing import LabelEncoder, StandardScaler\n",
        "from sklearn.model_selection import train_test_split\n",
        "from sklearn.neighbors import KNeighborsClassifier\n",
        "from sklearn.svm import SVC\n",
        "from sklearn.metrics import accuracy_score, confusion_matrix, classification_report\n",
        "from sklearn.inspection import DecisionBoundaryDisplay\n",
        "from sklearn.naive_bayes import GaussianNB,MultinomialNB ,BernoulliNB,ComplementNB\n",
        "from sklearn.tree import DecisionTreeClassifier\n",
        "from sklearn.ensemble import RandomForestClassifier\n",
        "from sklearn import metrics\n",
        "from sklearn.tree import plot_tree\n"
      ],
      "metadata": {
        "id": "krvuY3wqbcLs"
      },
      "execution_count": null,
      "outputs": []
    },
    {
      "cell_type": "code",
      "source": [
        "import statsmodels.api as sm"
      ],
      "metadata": {
        "id": "DGN4S0IfQt2t"
      },
      "execution_count": null,
      "outputs": []
    },
    {
      "cell_type": "code",
      "source": [
        "import plotly.express as px\n",
        "import plotly.graph_objects as go\n",
        "from plotly.subplots import make_subplots\n",
        "from pandas.plotting import andrews_curves,parallel_coordinates,radviz"
      ],
      "metadata": {
        "id": "lEOdD-YowBJg"
      },
      "execution_count": null,
      "outputs": []
    },
    {
      "cell_type": "code",
      "source": [
        "iris = load_iris()\n",
        "data_01 = pd.DataFrame(data=iris.data, columns=iris.feature_names)\n",
        "data_01['Species'] = iris.target_names[iris.target]"
      ],
      "metadata": {
        "id": "Qmvkch69B6If"
      },
      "execution_count": null,
      "outputs": []
    },
    {
      "cell_type": "code",
      "source": [
        "data_01.sample(10)"
      ],
      "metadata": {
        "id": "rkLZgvS1tUd0"
      },
      "execution_count": null,
      "outputs": []
    },
    {
      "cell_type": "code",
      "source": [
        "data_01.columns"
      ],
      "metadata": {
        "id": "T5AdMb8iuNWf"
      },
      "execution_count": null,
      "outputs": []
    },
    {
      "cell_type": "code",
      "source": [
        "data_01.rename(columns={'sepal length (cm)':'SepalLengthCm', 'sepal width (cm)':'SepalWidthCm', 'petal length (cm)':'PetalLengthCm', 'petal width (cm)':'PetalWidthCm'}, inplace=True)"
      ],
      "metadata": {
        "id": "kYJSEJ1jvTg_"
      },
      "execution_count": null,
      "outputs": []
    },
    {
      "cell_type": "code",
      "source": [
        "data_01.describe(include='all').T"
      ],
      "metadata": {
        "id": "UoFZMti9tmRj"
      },
      "execution_count": null,
      "outputs": []
    },
    {
      "cell_type": "code",
      "source": [
        "data_01.info()"
      ],
      "metadata": {
        "id": "2ECffg-UuHSP"
      },
      "execution_count": null,
      "outputs": []
    },
    {
      "cell_type": "code",
      "source": [
        "data_01[\"Species\"].unique()"
      ],
      "metadata": {
        "id": "yyn01HAzuRot"
      },
      "execution_count": null,
      "outputs": []
    },
    {
      "cell_type": "code",
      "source": [
        "numeric_columns = data_01.select_dtypes(include=[np.number]).columns\n",
        "correlation_matrix = data_01[numeric_columns].corr()\n",
        "\n",
        "fig = px.imshow(correlation_matrix.values,\n",
        "                x=correlation_matrix.columns,\n",
        "                y=correlation_matrix.columns,\n",
        "                color_continuous_scale='Blackbody',\n",
        "                labels=dict(color='Correlation'))\n",
        "\n",
        "annotations = []\n",
        "for i, row in enumerate(correlation_matrix.values):\n",
        "    for j, value in enumerate(row):\n",
        "        annotations.append(dict(x=correlation_matrix.columns[i], y=correlation_matrix.columns[j],\n",
        "                                text=str(round(value, 2)),\n",
        "                                font=dict(color='white' if abs(value) > 0.5 else 'black'),\n",
        "                                showarrow=False))\n",
        "fig.update_layout(annotations=annotations)\n",
        "\n",
        "fig.update_layout(\n",
        "    title='Correlation Heatmap of Features',\n",
        "    xaxis_title='Features',\n",
        "    yaxis_title='Features',\n",
        "    width=700,\n",
        "    height=600,\n",
        "    font=dict(\n",
        "        family=\"Courier New, monospace\",\n",
        "        size=12,\n",
        "        color=\"RebeccaPurple\"\n",
        "    ),\n",
        "    plot_bgcolor='rgba(0,0,0,0)'\n",
        ")\n",
        "\n",
        "fig.update_coloraxes(colorbar=dict(\n",
        "    title='Correlation',\n",
        "    tickvals=[-1, 0, 1],\n",
        "    ticktext=['Negative', 'Neutral', 'Positive'],\n",
        "    ticks='outside'\n",
        "))\n",
        "\n",
        "fig.show()\n"
      ],
      "metadata": {
        "id": "zwWVA7iRyfBx"
      },
      "execution_count": null,
      "outputs": []
    },
    {
      "cell_type": "code",
      "source": [
        "fig = px.scatter(data_01, x = \"SepalLengthCm\", y = \"SepalWidthCm\", color = \"Species\",\n",
        "                 title='Sepal Length vs Sepal Width by Species',\n",
        "                 labels={\"SepalLengthCm\": 'Sepal Length (cm)', \"SepalWidthCm\": 'Sepal Width (cm)'},\n",
        "                 hover_data=['Species'])\n",
        "\n",
        "fig.show()"
      ],
      "metadata": {
        "id": "sJV8w8z_BiU3"
      },
      "execution_count": null,
      "outputs": []
    },
    {
      "cell_type": "code",
      "source": [
        "fig = px.scatter(data_01, x = \"PetalLengthCm\", y = \"PetalWidthCm\", color = \"Species\",\n",
        "                 title='Petal Length vs Petal Width by Species',\n",
        "                 labels={\"PetalLengthCm\": 'Petal Length (cm)', \"PetalWidthCm\": 'Petal Width (cm)'},\n",
        "                 hover_data=['Species'])\n",
        "\n",
        "fig.show()"
      ],
      "metadata": {
        "id": "xOQeJvsyCljO"
      },
      "execution_count": null,
      "outputs": []
    },
    {
      "cell_type": "code",
      "source": [
        "fig = px.box(data_01, x='Species', y='PetalWidthCm', color='Species',\n",
        "             title='Petal Width Distribution by Species',\n",
        "             labels={'Species': 'Species', 'PetalWidthCm': 'Petal Width (cm)'},\n",
        "             points='all')\n",
        "\n",
        "fig2 = px.box(data_01, x='Species', y='PetalLengthCm', color='Species',\n",
        "              title='Petal Length Distribution by Species',\n",
        "              labels={'Species': 'Species', 'PetalLengthCm': 'Petal Length (cm)'},\n",
        "              points='all')\n",
        "\n",
        "fig3 = px.box(data_01, x='Species', y='SepalWidthCm', color='Species',\n",
        "              title='Sepal Width Distribution by Species',\n",
        "              labels={'Species': 'Species', 'SepalWidthCm': 'Sepal Width (cm)'},\n",
        "              points='all')\n",
        "\n",
        "fig4 = px.box(data_01, x='Species', y='SepalLengthCm', color='Species',\n",
        "              title='Sepal Length Distribution by Species',\n",
        "              labels={'Species': 'Species', 'SepalLengthCm': 'Sepal Length (cm)'},\n",
        "              points='all')"
      ],
      "metadata": {
        "id": "UXAblbsnHUNd"
      },
      "execution_count": null,
      "outputs": []
    },
    {
      "cell_type": "code",
      "source": [
        "fig_combined = make_subplots(rows=2, cols=2,\n",
        "                             subplot_titles=['Petal Width Distribution',\n",
        "                                              'Petal Length Distribution',\n",
        "                                              'Sepal Width Distribution',\n",
        "                                              'Sepal Length Distribution'])\n",
        "\n",
        "for fig_obj, row, col in zip([fig, fig2, fig3, fig4], [1, 1, 2, 2], [1, 2, 1, 2]):\n",
        "    for trace in fig_obj.data:\n",
        "        fig_combined.add_trace(trace, row=row, col=col)\n",
        "\n",
        "\n",
        "fig_combined.update_layout(title='Distribution of Iris Features by Species',\n",
        "                           height=800, width=1000)\n",
        "\n",
        "fig_combined.show()"
      ],
      "metadata": {
        "id": "sZR7-4atHORI"
      },
      "execution_count": null,
      "outputs": []
    },
    {
      "cell_type": "code",
      "source": [
        "plt.figure(figsize=(12, 12))\n",
        "andrews_curves(data_01, \"Species\")\n",
        "plt.title('Andrews Curves by Species')\n",
        "plt.show()"
      ],
      "metadata": {
        "id": "-FpyHMd4F5N_"
      },
      "execution_count": null,
      "outputs": []
    },
    {
      "cell_type": "code",
      "source": [
        "plt.figure(figsize=(12, 12))\n",
        "parallel_coordinates(data_01, \"Species\")\n",
        "plt.title('Parallel Coordinates by Species')\n",
        "plt.show()"
      ],
      "metadata": {
        "id": "Xz1UKOJSOBE3"
      },
      "execution_count": null,
      "outputs": []
    },
    {
      "cell_type": "code",
      "source": [
        "plt.figure(figsize=(12, 12))\n",
        "radviz(data_01, \"Species\")\n",
        "plt.show()"
      ],
      "metadata": {
        "id": "CxODyvjSOtWV"
      },
      "execution_count": null,
      "outputs": []
    },
    {
      "cell_type": "code",
      "source": [
        "plt.figure(figsize=(12, 12))\n",
        "sns.lmplot(x=\"SepalWidthCm\", y=\"SepalLengthCm\", hue=\"Species\", data=data_01, height=6, aspect=1.2);\n",
        "plt.title('Scatter Plot of Sepal Width vs Sepal Length')\n",
        "plt.xlabel('Sepal Width (cm)')\n",
        "plt.ylabel('Sepal Length (cm)')\n",
        "plt.show()"
      ],
      "metadata": {
        "id": "DVxKLk-WIMPq"
      },
      "execution_count": null,
      "outputs": []
    },
    {
      "cell_type": "code",
      "source": [
        "plt.figure(figsize=(12, 12))\n",
        "sns.lmplot(x=\"PetalWidthCm\", y=\"PetalLengthCm\", hue=\"Species\", data=data_01, height=6, aspect=1.2);\n",
        "plt.title('Scatter Plot of Sepal Width vs Sepal Length')\n",
        "plt.xlabel('Petal Width (cm)')\n",
        "plt.ylabel('Petal Length (cm)')\n",
        "plt.show()"
      ],
      "metadata": {
        "id": "enCk-yz4I9BE"
      },
      "execution_count": null,
      "outputs": []
    },
    {
      "cell_type": "code",
      "source": [
        "X = data_01.iloc[:,0:4]\n",
        "Y = data_01.iloc[:,4]"
      ],
      "metadata": {
        "id": "tGHfcS1JJNgT"
      },
      "execution_count": null,
      "outputs": []
    },
    {
      "cell_type": "code",
      "source": [
        "Encoder = LabelEncoder()\n",
        "Y = Encoder.fit_transform(Y)"
      ],
      "metadata": {
        "id": "pWP0vJK-LYJv"
      },
      "execution_count": null,
      "outputs": []
    },
    {
      "cell_type": "code",
      "source": [
        "X_train, X_test, Y_train, Y_test = train_test_split(X, Y, test_size = 0.32, random_state = 101)"
      ],
      "metadata": {
        "id": "T3u8xvCgLvYP"
      },
      "execution_count": null,
      "outputs": []
    },
    {
      "cell_type": "code",
      "source": [
        "scaler = StandardScaler()"
      ],
      "metadata": {
        "id": "aJ11BJYyQa2B"
      },
      "execution_count": null,
      "outputs": []
    },
    {
      "cell_type": "code",
      "source": [
        "X_train = scaler.fit_transform(X_train)\n",
        "X_test = scaler.transform(X_test)"
      ],
      "metadata": {
        "id": "N3n6v1wIQX75"
      },
      "execution_count": null,
      "outputs": []
    },
    {
      "cell_type": "markdown",
      "source": [
        "**Logastic Regression**"
      ],
      "metadata": {
        "id": "bZ058wzcPe-W"
      }
    },
    {
      "cell_type": "code",
      "source": [
        "X_train_02 = X_train.copy()\n",
        "X_train_02 = sm.add_constant(X_train_02)\n",
        "X_test_02 = X_test.copy()\n",
        "X_test_02 = sm.add_constant(X_test_02)"
      ],
      "metadata": {
        "id": "3V9OcgAbQg0z"
      },
      "execution_count": null,
      "outputs": []
    },
    {
      "cell_type": "code",
      "source": [
        "Logastics_01 = sm.MNLogit(Y_train, X_train_02)\n",
        "result_01 = Logastics_01.fit()"
      ],
      "metadata": {
        "id": "7tGjdID0UCA1"
      },
      "execution_count": null,
      "outputs": []
    },
    {
      "cell_type": "code",
      "source": [
        "print(result_01.summary())"
      ],
      "metadata": {
        "id": "B427qjBOUymi"
      },
      "execution_count": null,
      "outputs": []
    },
    {
      "cell_type": "code",
      "source": [
        "y_prediction_probababilty = result_01.predict(X_test_02)\n",
        "print(y_prediction_probababilty)"
      ],
      "metadata": {
        "id": "SKlbRMQ_U2sk"
      },
      "execution_count": null,
      "outputs": []
    },
    {
      "cell_type": "code",
      "source": [
        "Y_pred_01 = np.argmax(y_prediction_probababilty, axis=1)"
      ],
      "metadata": {
        "id": "fmWPHd5PVZ8Q"
      },
      "execution_count": null,
      "outputs": []
    },
    {
      "cell_type": "code",
      "source": [
        "print(f'Accuracy: {accuracy_score(Y_test, Y_pred_01)}')"
      ],
      "metadata": {
        "id": "Q0dt7utAVgFR"
      },
      "execution_count": null,
      "outputs": []
    },
    {
      "cell_type": "markdown",
      "source": [
        "**K – Nearest Neighbour (KNN)**"
      ],
      "metadata": {
        "id": "6sSypR2TPlgR"
      }
    },
    {
      "cell_type": "code",
      "source": [
        "knn = KNeighborsClassifier(n_neighbors=5)"
      ],
      "metadata": {
        "id": "7ZVfyxKyPq2y"
      },
      "execution_count": null,
      "outputs": []
    },
    {
      "cell_type": "code",
      "source": [
        "knn.fit(X_train, Y_train)"
      ],
      "metadata": {
        "id": "GI60MoWkQQYT"
      },
      "execution_count": null,
      "outputs": []
    },
    {
      "cell_type": "code",
      "source": [
        "y_pred = knn.predict(X_test)"
      ],
      "metadata": {
        "id": "W8uS_o2dQSlV"
      },
      "execution_count": null,
      "outputs": []
    },
    {
      "cell_type": "code",
      "source": [
        "print(\"Classification Report:\")\n",
        "print(classification_report(Y_test, y_pred, target_names=iris.target_names))"
      ],
      "metadata": {
        "id": "eE--0Sj3QUyQ"
      },
      "execution_count": null,
      "outputs": []
    },
    {
      "cell_type": "code",
      "source": [
        "print(\"Confusion Matrix:\")\n",
        "print(confusion_matrix(Y_test, y_pred))"
      ],
      "metadata": {
        "id": "EGsjQhPOQVY5"
      },
      "execution_count": null,
      "outputs": []
    },
    {
      "cell_type": "code",
      "source": [
        "accuracy = knn.score(X_test, Y_test)\n",
        "print(f\"Accuracy: {accuracy:.2f}\")"
      ],
      "metadata": {
        "id": "9M1PYDpXQdxO"
      },
      "execution_count": null,
      "outputs": []
    },
    {
      "cell_type": "markdown",
      "source": [
        "**Support Vector Machine**"
      ],
      "metadata": {
        "id": "hLZBiehecCHd"
      }
    },
    {
      "cell_type": "code",
      "source": [
        "SMV = SVC(kernel='linear')"
      ],
      "metadata": {
        "id": "rOwvjyrqVioG"
      },
      "execution_count": null,
      "outputs": []
    },
    {
      "cell_type": "code",
      "source": [
        "SMV.fit(X_train, Y_train)"
      ],
      "metadata": {
        "id": "jr4nrwdiYbV_"
      },
      "execution_count": null,
      "outputs": []
    },
    {
      "cell_type": "code",
      "source": [
        "Y_pred_02 = SMV.predict(X_test)"
      ],
      "metadata": {
        "id": "KGHYdKw3YeD-"
      },
      "execution_count": null,
      "outputs": []
    },
    {
      "cell_type": "code",
      "source": [
        "print(\"Accuracy:\", accuracy_score(Y_test, Y_pred_02))\n",
        "print(\"\\nConfusion Matrix:\")\n",
        "print(confusion_matrix(Y_test, Y_pred_02))\n",
        "print(\"\\nClassification Report:\")\n",
        "print(classification_report(Y_test, Y_pred_02))"
      ],
      "metadata": {
        "id": "hCOSMOKTYk5t"
      },
      "execution_count": null,
      "outputs": []
    },
    {
      "cell_type": "code",
      "source": [
        "plt.figure(figsize=(8, 6))\n",
        "sns.heatmap(confusion_matrix(Y_test, Y_pred_02), annot=True, cmap=\"YlGnBu\", fmt='g', cbar=False)\n",
        "plt.xlabel('Predicted labels')\n",
        "plt.ylabel('True labels')\n",
        "plt.title('Confusion Matrix')\n",
        "plt.show()"
      ],
      "metadata": {
        "id": "8dCDeUubjQHg"
      },
      "execution_count": null,
      "outputs": []
    },
    {
      "cell_type": "code",
      "source": [
        "import numpy as np\n",
        "import matplotlib.pyplot as plt\n",
        "from sklearn import svm, datasets\n",
        "from itertools import combinations\n",
        "\n",
        "iris = datasets.load_iris()\n",
        "X = iris.data\n",
        "y = iris.target\n",
        "feature_names = iris.feature_names\n",
        "\n",
        "feature_pairs = list(combinations(range(X.shape[1]), 2))\n",
        "\n",
        "\n",
        "fig, axs = plt.subplots(len(feature_pairs) // 2, 2, figsize=(12, 20))\n",
        "\n",
        "for i, pair in enumerate(feature_pairs):\n",
        "    X_pair = X[:, pair]\n",
        "\n",
        "    clf = svm.SVC(kernel='linear')\n",
        "    clf.fit(X_pair, y)\n",
        "\n",
        "    xx, yy = np.meshgrid(np.linspace(X_pair[:, 0].min() - 1, X_pair[:, 0].max() + 1, 500),\n",
        "                         np.linspace(X_pair[:, 1].min() - 1, X_pair[:, 1].max() + 1, 500))\n",
        "    Z = clf.predict(np.c_[xx.ravel(), yy.ravel()])\n",
        "    Z = Z.reshape(xx.shape)\n",
        "\n",
        "    ax = axs[i // 2, i % 2]\n",
        "    ax.contourf(xx, yy, Z, cmap=plt.cm.Spectral, alpha=0.8)\n",
        "    ax.scatter(X_pair[:, 0], X_pair[:, 1], c=y, cmap=plt.cm.Spectral, edgecolors='k')\n",
        "    ax.set_xlabel(feature_names[pair[0]])\n",
        "    ax.set_ylabel(feature_names[pair[1]])\n",
        "    ax.set_title(f'{feature_names[pair[0]]} vs {feature_names[pair[1]]}')\n",
        "\n",
        "plt.tight_layout()\n",
        "plt.show()"
      ],
      "metadata": {
        "id": "REXd7QXKeY1D"
      },
      "execution_count": null,
      "outputs": []
    },
    {
      "cell_type": "markdown",
      "source": [
        "**Gaussian Naive Bayes**"
      ],
      "metadata": {
        "id": "XlTpAJU9h73B"
      }
    },
    {
      "cell_type": "code",
      "source": [
        "gnb_classifier = GaussianNB()"
      ],
      "metadata": {
        "id": "OMn2LYvng-Kz"
      },
      "execution_count": null,
      "outputs": []
    },
    {
      "cell_type": "code",
      "source": [
        "gnb_classifier.fit(X_train, Y_train)"
      ],
      "metadata": {
        "id": "iIMoUVE_iCxf"
      },
      "execution_count": null,
      "outputs": []
    },
    {
      "cell_type": "code",
      "source": [
        "Y_pred_03 = gnb_classifier.predict(X_test)"
      ],
      "metadata": {
        "id": "y6Xr8RByiYr8"
      },
      "execution_count": null,
      "outputs": []
    },
    {
      "cell_type": "code",
      "source": [
        "print(\"Accuracy:\", metrics.accuracy_score(Y_test, Y_pred_03))"
      ],
      "metadata": {
        "id": "evkT1TWxiclW"
      },
      "execution_count": null,
      "outputs": []
    },
    {
      "cell_type": "code",
      "source": [
        "confusion_matrix_03 = metrics.confusion_matrix(Y_test, Y_pred_03)\n",
        "print(\"Confusion Matrix:\")\n",
        "print(confusion_matrix)"
      ],
      "metadata": {
        "id": "iHUVfImtiuLf"
      },
      "execution_count": null,
      "outputs": []
    },
    {
      "cell_type": "code",
      "source": [
        "class_report = metrics.classification_report(Y_test, Y_pred_03)\n",
        "print(\"Classification Report:\")\n",
        "print(class_report)"
      ],
      "metadata": {
        "id": "aKXl2PZai4Mx"
      },
      "execution_count": null,
      "outputs": []
    },
    {
      "cell_type": "code",
      "source": [
        "plt.figure(figsize=(12,12))\n",
        "sns.heatmap(confusion_matrix_03, annot=True, cmap=\"YlGnBu\", fmt='g', cbar=False)\n",
        "plt.xlabel('Predicted labels')\n",
        "plt.ylabel('True labels')\n",
        "plt.title('Confusion Matrix')\n",
        "plt.show()"
      ],
      "metadata": {
        "id": "3aVmj9UnjD_g"
      },
      "execution_count": null,
      "outputs": []
    },
    {
      "cell_type": "markdown",
      "source": [
        "**Bernoulli Naive Bayes**"
      ],
      "metadata": {
        "id": "brn-hkitRc36"
      }
    },
    {
      "cell_type": "code",
      "source": [
        "bnb_classifier = BernoulliNB()"
      ],
      "metadata": {
        "id": "lSTqkMnCRc37"
      },
      "execution_count": null,
      "outputs": []
    },
    {
      "cell_type": "code",
      "source": [
        "bnb_classifier.fit(X_train, Y_train)"
      ],
      "metadata": {
        "id": "721wmTDkRc38"
      },
      "execution_count": null,
      "outputs": []
    },
    {
      "cell_type": "code",
      "source": [
        "Y_pred_07 = bnb_classifier.predict(X_test)"
      ],
      "metadata": {
        "id": "2LWgWKn4Rc38"
      },
      "execution_count": null,
      "outputs": []
    },
    {
      "cell_type": "code",
      "source": [
        "print(\"Accuracy:\", metrics.accuracy_score(Y_test, Y_pred_07))"
      ],
      "metadata": {
        "id": "iyzciLuSRc38"
      },
      "execution_count": null,
      "outputs": []
    },
    {
      "cell_type": "code",
      "source": [
        "confusion_matrix_07 = metrics.confusion_matrix(Y_test, Y_pred_07)\n",
        "print(\"Confusion Matrix:\")\n",
        "print(confusion_matrix)"
      ],
      "metadata": {
        "id": "4nz8ypv2Rc39"
      },
      "execution_count": null,
      "outputs": []
    },
    {
      "cell_type": "code",
      "source": [
        "class_report = metrics.classification_report(Y_test, Y_pred_07)\n",
        "print(\"Classification Report:\")\n",
        "print(class_report)"
      ],
      "metadata": {
        "id": "VOhBUGjmRc39"
      },
      "execution_count": null,
      "outputs": []
    },
    {
      "cell_type": "code",
      "source": [
        "plt.figure(figsize=(12,12))\n",
        "sns.heatmap(confusion_matrix_07, annot=True, cmap=\"YlGnBu\", fmt='g', cbar=False)\n",
        "plt.xlabel('Predicted labels')\n",
        "plt.ylabel('True labels')\n",
        "plt.title('Confusion Matrix')\n",
        "plt.show()"
      ],
      "metadata": {
        "id": "Wqb8QZjYRc3-"
      },
      "execution_count": null,
      "outputs": []
    },
    {
      "cell_type": "markdown",
      "source": [
        "**Decision Tree**"
      ],
      "metadata": {
        "id": "40N3h6t9kPXD"
      }
    },
    {
      "cell_type": "code",
      "source": [
        "decision = DecisionTreeClassifier(random_state=42)"
      ],
      "metadata": {
        "id": "Qd02lvoXkUq5"
      },
      "execution_count": null,
      "outputs": []
    },
    {
      "cell_type": "code",
      "source": [
        "decision.fit(X_train, Y_train)"
      ],
      "metadata": {
        "id": "-HXLSfOBknaa"
      },
      "execution_count": null,
      "outputs": []
    },
    {
      "cell_type": "code",
      "source": [
        "Y_pred_04 = decision.predict(X_test)"
      ],
      "metadata": {
        "id": "WhZ3xVBKkutH"
      },
      "execution_count": null,
      "outputs": []
    },
    {
      "cell_type": "code",
      "source": [
        "print(\"Accuracy:\", metrics.accuracy_score(Y_test, Y_pred_04))"
      ],
      "metadata": {
        "id": "ts2FS4CQk-VK"
      },
      "execution_count": null,
      "outputs": []
    },
    {
      "cell_type": "code",
      "source": [
        "confusion_matrix_04 = metrics.confusion_matrix(Y_test, Y_pred_04)\n",
        "print(\"Confusion Matrix:\")\n",
        "print(confusion_matrix_04)"
      ],
      "metadata": {
        "id": "ZB3R7h9_k-VM"
      },
      "execution_count": null,
      "outputs": []
    },
    {
      "cell_type": "code",
      "source": [
        "class_report = metrics.classification_report(Y_test, Y_pred_04)\n",
        "print(\"Classification Report:\")\n",
        "print(class_report)"
      ],
      "metadata": {
        "id": "7HtNWVVuk-VN"
      },
      "execution_count": null,
      "outputs": []
    },
    {
      "cell_type": "code",
      "source": [
        "plt.figure(figsize=(12,12))\n",
        "sns.heatmap(confusion_matrix_04, annot=True, cmap=\"YlGnBu\", fmt='g', cbar=False)\n",
        "plt.xlabel('Predicted labels')\n",
        "plt.ylabel('True labels')\n",
        "plt.title('Confusion Matrix')\n",
        "plt.show()"
      ],
      "metadata": {
        "id": "aBxRuOsZoOdv"
      },
      "execution_count": null,
      "outputs": []
    },
    {
      "cell_type": "code",
      "source": [
        "plt.figure(figsize=(14, 10))\n",
        "plot_tree(decision, filled=True, feature_names=[\"SepalLengthCm\",\"SepalWidthCm\",\"PetalLengthCm\",\"PetalWidthCm\"], class_names=True)\n",
        "plt.title(\"Decision Tree Visualization\", fontsize=18)\n",
        "plt.show()"
      ],
      "metadata": {
        "id": "mLyLANw7lmcp"
      },
      "execution_count": null,
      "outputs": []
    },
    {
      "cell_type": "markdown",
      "source": [
        "**Random Forest**"
      ],
      "metadata": {
        "id": "_Cc97tw0nb29"
      }
    },
    {
      "cell_type": "code",
      "source": [
        "rf_classifier = RandomForestClassifier(n_estimators=100, random_state=42)"
      ],
      "metadata": {
        "id": "RkbTJZy2mZ8Y"
      },
      "execution_count": null,
      "outputs": []
    },
    {
      "cell_type": "code",
      "source": [
        "rf_classifier.fit(X_train, Y_train)"
      ],
      "metadata": {
        "id": "m2hCgpVfnlBI"
      },
      "execution_count": null,
      "outputs": []
    },
    {
      "cell_type": "code",
      "source": [
        "tree_index = 0\n",
        "chosen_tree = rf_classifier.estimators_[tree_index]\n",
        "\n",
        "plt.figure(figsize=(16, 10))\n",
        "plot_tree(chosen_tree, filled=True, feature_names=[\"SepalLengthCm\", \"SepalWidthCm\", \"PetalLengthCm\", \"PetalWidthCm\"], class_names=True, fontsize=10)\n",
        "plt.title(f\"Decision Tree {tree_index} from Random Forest\", fontsize=14)\n",
        "plt.show()"
      ],
      "metadata": {
        "id": "3pwMz_7fqPcR"
      },
      "execution_count": null,
      "outputs": []
    },
    {
      "cell_type": "code",
      "source": [
        "y_pred_05 = rf_classifier.predict(X_test)"
      ],
      "metadata": {
        "id": "SVkO75WHnm30"
      },
      "execution_count": null,
      "outputs": []
    },
    {
      "cell_type": "code",
      "source": [
        "print(\"Accuracy:\", metrics.accuracy_score(Y_test, y_pred_05))"
      ],
      "metadata": {
        "id": "F25bweqRn_2F"
      },
      "execution_count": null,
      "outputs": []
    },
    {
      "cell_type": "code",
      "source": [
        "confusion_matrix_05 = metrics.confusion_matrix(Y_test, y_pred_05)\n",
        "print(\"Confusion Matrix:\")\n",
        "print(confusion_matrix_05)"
      ],
      "metadata": {
        "id": "jRid2vSkn_2i"
      },
      "execution_count": null,
      "outputs": []
    },
    {
      "cell_type": "code",
      "source": [
        "class_report = metrics.classification_report(Y_test, y_pred_05)\n",
        "print(\"Classification Report:\")\n",
        "print(class_report)"
      ],
      "metadata": {
        "id": "BqIVZX4Hn_2j"
      },
      "execution_count": null,
      "outputs": []
    },
    {
      "cell_type": "code",
      "source": [
        "plt.figure(figsize=(12,12))\n",
        "sns.heatmap(confusion_matrix_05, annot=True, cmap=\"YlGnBu\", fmt='g', cbar=False)\n",
        "plt.xlabel('Predicted labels')\n",
        "plt.ylabel('True labels')\n",
        "plt.title('Confusion Matrix')\n",
        "plt.show()"
      ],
      "metadata": {
        "id": "oxerOGspobYD"
      },
      "execution_count": null,
      "outputs": []
    },
    {
      "cell_type": "code",
      "source": [
        "feature_importances = rf_classifier.feature_importances_\n",
        "features = [\"SepalLengthCm\", \"SepalWidthCm\", \"PetalLengthCm\", \"PetalWidthCm\"]\n",
        "indices = np.argsort(feature_importances)[::-1]"
      ],
      "metadata": {
        "id": "NXuQmmy_oeU3"
      },
      "execution_count": null,
      "outputs": []
    },
    {
      "cell_type": "code",
      "source": [
        "plt.figure(figsize=(10, 6))\n",
        "sns.barplot(x=feature_importances[indices], y=np.array(features)[indices], palette='viridis')\n",
        "plt.xlabel('Feature Importance Scores', fontsize=14)\n",
        "plt.ylabel('Features', fontsize=14)\n",
        "plt.title('Feature Importances', fontsize=16)\n",
        "plt.xticks(fontsize=12)\n",
        "plt.yticks(fontsize=12)\n",
        "plt.tight_layout()\n",
        "plt.show()"
      ],
      "metadata": {
        "id": "mFgSR_APosFk"
      },
      "execution_count": null,
      "outputs": []
    },
    {
      "cell_type": "code",
      "source": [
        "print(\"Session End\")"
      ],
      "metadata": {
        "id": "QacMi-vBo4Wj"
      },
      "execution_count": null,
      "outputs": []
    }
  ]
}